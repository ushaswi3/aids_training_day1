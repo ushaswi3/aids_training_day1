{
  "nbformat": 4,
  "nbformat_minor": 0,
  "metadata": {
    "colab": {
      "provenance": []
    },
    "kernelspec": {
      "name": "python3",
      "display_name": "Python 3"
    },
    "language_info": {
      "name": "python"
    }
  },
  "cells": [
    {
      "cell_type": "code",
      "execution_count": null,
      "metadata": {
        "id": "91rWn6bbCKHT"
      },
      "outputs": [],
      "source": [
        "import numpy as np"
      ]
    },
    {
      "cell_type": "code",
      "source": [
        "arr_d1=np.array([1,2,3])\n",
        "print(arr_d1)"
      ],
      "metadata": {
        "colab": {
          "base_uri": "https://localhost:8080/"
        },
        "id": "BlBNRul2DwjW",
        "outputId": "8e3649c3-3332-4e6d-e9e8-ce7d1b40cbf2"
      },
      "execution_count": null,
      "outputs": [
        {
          "output_type": "stream",
          "name": "stdout",
          "text": [
            "[1 2 3]\n"
          ]
        }
      ]
    },
    {
      "cell_type": "code",
      "source": [
        "arr_d2=np.array([[1,2,3],[4,5,6]])\n",
        "print(arr_d2)"
      ],
      "metadata": {
        "colab": {
          "base_uri": "https://localhost:8080/"
        },
        "id": "J92vXuTTD7zv",
        "outputId": "f1957f00-7855-434f-a3c7-517c26187b95"
      },
      "execution_count": null,
      "outputs": [
        {
          "output_type": "stream",
          "name": "stdout",
          "text": [
            "[[1 2 3]\n",
            " [4 5 6]]\n"
          ]
        }
      ]
    },
    {
      "cell_type": "code",
      "source": [
        "arr_d3=np.array([[[1,2,3],[4,5,6],[7,8,9]]])\n",
        "print(arr_d3)"
      ],
      "metadata": {
        "colab": {
          "base_uri": "https://localhost:8080/"
        },
        "id": "dkCOj7T8ELV8",
        "outputId": "5e718605-afb4-4382-e485-e760d9c5b2b6"
      },
      "execution_count": null,
      "outputs": [
        {
          "output_type": "stream",
          "name": "stdout",
          "text": [
            "[[[1 2 3]\n",
            "  [4 5 6]\n",
            "  [7 8 9]]]\n"
          ]
        }
      ]
    },
    {
      "cell_type": "code",
      "source": [
        "arr=np.array(42)\n",
        "arr_d1=np.array([1,2,3])\n",
        "arr_d2=np.array([[1,2,3],[4,5,6]])\n",
        "arr_d3=np.array([[[1,2,3],[4,5,6],[7,8,9]]])\n",
        "\n",
        "print(arr.ndim)\n",
        "print(arr_d1.ndim)\n",
        "print(arr_d2.ndim)\n",
        "print(arr_d3.ndim)\n"
      ],
      "metadata": {
        "colab": {
          "base_uri": "https://localhost:8080/"
        },
        "id": "uZ9oV6q5Enqc",
        "outputId": "64c3d440-9d3a-485e-dfaf-6ad94541b9dd"
      },
      "execution_count": null,
      "outputs": [
        {
          "output_type": "stream",
          "name": "stdout",
          "text": [
            "0\n",
            "1\n",
            "2\n",
            "3\n"
          ]
        }
      ]
    },
    {
      "cell_type": "code",
      "source": [
        "zeros=np.zeros((2,3))\n",
        "print(zeros)\n",
        "ones=np.ones((3,3))\n",
        "print((ones))\n",
        "random_arr=np.random.random((2,2))\n",
        "print(random_arr)\n",
        "identity=np.eye(3)\n",
        "print(identity)"
      ],
      "metadata": {
        "colab": {
          "base_uri": "https://localhost:8080/"
        },
        "id": "p3hdycWaFgLK",
        "outputId": "cc426bd6-c0b3-47ef-860e-90005c30f348"
      },
      "execution_count": null,
      "outputs": [
        {
          "output_type": "stream",
          "name": "stdout",
          "text": [
            "[[0. 0. 0.]\n",
            " [0. 0. 0.]]\n",
            "[[1. 1. 1.]\n",
            " [1. 1. 1.]\n",
            " [1. 1. 1.]]\n",
            "[[0.00202664 0.25290624]\n",
            " [0.4087888  0.40037887]]\n",
            "[[1. 0. 0.]\n",
            " [0. 1. 0.]\n",
            " [0. 0. 1.]]\n"
          ]
        }
      ]
    },
    {
      "cell_type": "code",
      "source": [
        "arr=np.array([[1,2,3],[4,5,6]])\n",
        "print(\"Shape: \",arr.shape)\n",
        "print(\"Size: \",arr.size)\n",
        "print(\"Data type: \",arr.dtype)\n",
        "print(\"No.of dimensions: \",arr.ndim)\n",
        "\n"
      ],
      "metadata": {
        "colab": {
          "base_uri": "https://localhost:8080/"
        },
        "id": "IEUWfu0aF3iG",
        "outputId": "90d77d55-b56f-4d7f-96c5-d0b3d0300803"
      },
      "execution_count": null,
      "outputs": [
        {
          "output_type": "stream",
          "name": "stdout",
          "text": [
            "Shape:  (2, 3)\n",
            "Size:  6\n",
            "Data type:  int64\n",
            "No.of dimensions:  2\n"
          ]
        }
      ]
    },
    {
      "cell_type": "code",
      "source": [
        "range_arr=np.arange(0,10,2)\n",
        "print(range_arr)\n",
        "\n"
      ],
      "metadata": {
        "colab": {
          "base_uri": "https://localhost:8080/"
        },
        "id": "Yo4rXif-F0Bp",
        "outputId": "d9291d77-c7c5-44bd-e6ff-796cd0d96abe"
      },
      "execution_count": null,
      "outputs": [
        {
          "output_type": "stream",
          "name": "stdout",
          "text": [
            "[0 2 4 6 8]\n"
          ]
        }
      ]
    },
    {
      "cell_type": "code",
      "source": [
        "/*Create NumPy arrays\n",
        "Create a 2D NumPy array named temp_data to represent the temperature readings from both greenhouses.\n",
        "Print the array.\n",
        "Check array properties\n",
        "Print the shape, size, data type, and number of dimensions of temp_data.\n",
        "Add a third greenhouse\n",
        "The third greenhouse (GH3) records [21, 23, 22].\n",
        "Create a new array updated_temp_data that includes all three greenhouses.\n",
        "Generate supporting data\n",
        "Create a zeros array (2×3) called sensor_error_flags to represent whether there were any sensor errors (0 means no error).\n",
        "Create an identity matrix of size 3×3 named greenhouse_identity to uniquely identify each greenhouse.\n",
        "Display all arrays\n",
        "Print updated_temp_data, sensor_error_flags, and greenhouse_identity.*/"
      ],
      "metadata": {
        "id": "1gjivY67F4lX"
      },
      "execution_count": null,
      "outputs": []
    },
    {
      "cell_type": "markdown",
      "source": [],
      "metadata": {
        "id": "sx77odKeMcRE"
      }
    },
    {
      "cell_type": "code",
      "source": [
        "import numpy as np\n",
        "\n",
        "temp_data = np.array([[22, 25, 20],  [24, 26, 23]])\n",
        "print(\"Initial temp_data array:\")\n",
        "print(temp_data)\n",
        "\n",
        "print(\"\\nShape of temp_data:\", temp_data.shape)\n",
        "print(\"Size of temp_data:\", temp_data.size)\n",
        "print(\"Data type of temp_data:\", temp_data.dtype)\n",
        "print(\"Number of dimensions of temp_data:\", temp_data.ndim)\n",
        "\n",
        "gh3_readings = np.array([[21, 23, 22]])\n",
        "updated_temp_data = np.vstack((temp_data, gh3_readings))\n",
        "print(\"\\nupdated_temp_data array (All three greenhouses):\")\n",
        "print(updated_temp_data)\n",
        "\n",
        "\n",
        "sensor_error_flags = np.zeros((2, 3), dtype=int)\n",
        "print(\"\\nsensor_error_flags array (2×3 zeros):\")\n",
        "print(sensor_error_flags)\n",
        "\n",
        "\n",
        "greenhouse_identity = np.identity(3, dtype=int)\n",
        "print(\"\\ngreenhouse_identity matrix (3×3 identity):\")\n",
        "print(greenhouse_identity)\n"
      ],
      "metadata": {
        "colab": {
          "base_uri": "https://localhost:8080/"
        },
        "id": "8W0XAFMVF4o4",
        "outputId": "e6626a51-5a38-4046-fffd-eb67c300fb2d"
      },
      "execution_count": null,
      "outputs": [
        {
          "output_type": "stream",
          "name": "stdout",
          "text": [
            "Initial temp_data array:\n",
            "[[22 25 20]\n",
            " [24 26 23]]\n",
            "\n",
            "Shape of temp_data: (2, 3)\n",
            "Size of temp_data: 6\n",
            "Data type of temp_data: int64\n",
            "Number of dimensions of temp_data: 2\n",
            "\n",
            "updated_temp_data array (All three greenhouses):\n",
            "[[22 25 20]\n",
            " [24 26 23]\n",
            " [21 23 22]]\n",
            "\n",
            "sensor_error_flags array (2×3 zeros):\n",
            "[[0 0 0]\n",
            " [0 0 0]]\n",
            "\n",
            "greenhouse_identity matrix (3×3 identity):\n",
            "[[1 0 0]\n",
            " [0 1 0]\n",
            " [0 0 1]]\n"
          ]
        }
      ]
    },
    {
      "cell_type": "code",
      "source": [],
      "metadata": {
        "id": "Zp55a1yOOW1f"
      },
      "execution_count": null,
      "outputs": []
    },
    {
      "cell_type": "markdown",
      "source": [
        "Indexing and Slicing:\n",
        "You are working as a Data Analyst at a fruit distribution company.\n",
        "The company stores the number of fruit boxes shipped per day (for 1 week) in a 2D NumPy array where:\n",
        "Each row represents a type of fruit.\n",
        "Each column represents a day of the week (Mon–Sun).\n",
        "\n",
        "\n",
        "Your Tasks\n",
        "Create the 2D NumPy array\n",
        "Create an array named shipments using the above data.\n",
        "Access single elements (Indexing):\n",
        "Get the number of Apples shipped on Wednesday.\n",
        "Get the number of Oranges shipped on Sunday.\n",
        "Access multiple elements (Slicing):\n",
        "Extract all the weekday shipments (Mon–Fri) for all fruits.\n",
        "Extract only the weekend shipments (Sat & Sun).\n",
        "Extract the shipments of Apples from Wednesday to Saturday.\n",
        "Bonus (Practice thinking):\n",
        "Replace the Saturday shipment of Apples (currently 80) with 100 using indexing."
      ],
      "metadata": {
        "id": "2bb1laBTOsKw"
      }
    },
    {
      "cell_type": "code",
      "source": [
        "shipments=np.array([[50,60,55,70,65,80,90],[40,45,50,60,55,70,75]])\n",
        "print(\"Apples shipped on Wednesday:\",shipments[0][2])\n",
        "print(\"Oranges shipped on Sunday:\",shipments[1][6])\n",
        "print(\"weekday shipments (Mon–Fri) APPLES:\",shipments[0,0:5])\n",
        "print(\"weekday shipments (Mon–Fri) ORANGES:\",shipments[1,0:5])\n",
        "print(\"weekend shipments (Sat & Sun) APPLES:\",shipments[0,5:])\n",
        "print(\"weekend shipments (Sat & Sun) ORANGES:\",shipments[1,5:])\n",
        "print(\"Apples from Wednesday to Saturday:\",shipments[0,2:6])\n",
        "\n",
        "shipments[0,5]=100\n",
        "print(\"Shipments of apple(updated)\",shipments[0])\n"
      ],
      "metadata": {
        "colab": {
          "base_uri": "https://localhost:8080/"
        },
        "id": "2pjIYS2YOzUn",
        "outputId": "b1ff5ca0-eacf-4d9c-d7b0-d1e4d5cee056"
      },
      "execution_count": null,
      "outputs": [
        {
          "output_type": "stream",
          "name": "stdout",
          "text": [
            "Apples shipped on Wednesday: 55\n",
            "Oranges shipped on Sunday: 75\n",
            "weekday shipments (Mon–Fri) APPLES: [50 60 55 70 65]\n",
            "weekday shipments (Mon–Fri) ORANGES: [40 45 50 60 55]\n",
            "weekend shipments (Sat & Sun) APPLES: [80 90]\n",
            "weekend shipments (Sat & Sun) ORANGES: [70 75]\n",
            "Apples from Wednesday to Saturday: [55 70 65 80]\n",
            "Shipments of apple(updated) [ 50  60  55  70  65 100  90]\n"
          ]
        }
      ]
    },
    {
      "cell_type": "code",
      "source": [
        "print(\"Arithematic operations\")\n",
        "a=np.array([1,2,3])\n",
        "b=np.array([4,5,6])\n",
        "print(\"Addition:\",a+b)\n",
        "print(\"Element-wise multiplication:\",a*b)\n",
        "print(\"Scalar multiplication:\",a*2)\n",
        "\n",
        "print(\"Matrix multiplication:\")\n",
        "mat1=np.array([[1,2],[3,4]])\n",
        "mat2=np.array([[8,9],[6,7]])\n",
        "\n",
        "print(\"BROADCASTING: Numpy automatically applies operations accross arrays of different shapes when compatible\")\n",
        "a=np.array([1,2,3])\n",
        "b=np.array(2)\n",
        "print(a+b)\n"
      ],
      "metadata": {
        "colab": {
          "base_uri": "https://localhost:8080/"
        },
        "id": "g_f2fiQXW-mK",
        "outputId": "4b7bd557-688a-4eba-d562-dc5c25a017a0"
      },
      "execution_count": null,
      "outputs": [
        {
          "output_type": "stream",
          "name": "stdout",
          "text": [
            "Arithematic operations\n",
            "Addition: [5 7 9]\n",
            "Element-wise multiplication: [ 4 10 18]\n",
            "Scalar multiplication: [2 4 6]\n",
            "Matrix multiplication:\n",
            "BROADCASTING: Numpy automatically applies operations accross arrays of different shapes when compatible\n",
            "[3 4 5]\n"
          ]
        }
      ]
    },
    {
      "cell_type": "markdown",
      "source": [
        "1. Arithmetic ufuncs\n",
        "Operate element-wise on arrays.\n",
        "np.add(x, y)\n",
        "np.subtract(x, y)\n",
        "np.multiply(x, y)\n",
        "np.divide(x, y)\n",
        "np.power(x, y)\n",
        "np.mod(x, y)\n",
        "🔹 2. Exponential and Logarithmic ufuncs\n",
        "(You already covered these)\n",
        "np.exp(x)\n",
        "np.log(x)\n",
        "np.log10(x)\n",
        "np.log2(x)\n",
        "np.expm1(x)    # exp(x) - 1\n",
        "🔹 3. Trigonometric ufuncs\n",
        "np.sin(x)\n",
        "np.cos(x)\n",
        "np.tan(x)\n",
        "np.arcsin(x)\n",
        "np.arccos(x)\n",
        "np.arctan(x)\n",
        "np.degrees(x)\n",
        "np.radians(x)\n",
        "🔹 4. Rounding ufuncs\n",
        "np.round(x)\n",
        "np.floor(x)\n",
        "np.ceil(x)\n",
        "np.trunc(x)\n",
        "🔹 5. Statistical ufuncs\n",
        "(Operate along an axis or entire array)\n",
        "np.min(x)\n",
        "np.max(x)\n",
        "np.mean(x)\n",
        "np.std(x)\n",
        "np.var(x)\n",
        "np.sum(x)\n",
        "np.prod(x)\n",
        "🔹 6. Logical ufuncs\n",
        "np.logical_and(x, y)\n",
        "np.logical_or(x, y)\n",
        "np.logical_not(x)\n",
        "np.logical_xor(x, y)\n",
        "🔹 7. Comparison ufuncs\n",
        "(Return Boolean arrays)\n",
        "np.greater(x, y)\n",
        "np.less(x, y)\n",
        "np.equal(x, y)\n",
        "np.not_equal(x, y)\n",
        "np.greater_equal(x, y)\n",
        "np.less_equal(x, y)\n",
        "🔹 8. Bitwise ufuncs\n",
        "(Operate on integers)\n",
        "np.bitwise_and(x, y)\n",
        "np.bitwise_or(x, y)\n",
        "np.bitwise_xor(x, y)\n",
        "np.invert(x)"
      ],
      "metadata": {
        "id": "Z1qyk4k1aNMd"
      }
    },
    {
      "cell_type": "code",
      "source": [
        "print(\"Aggregate functions\")\n",
        "arr=np.array([1,2,3,4,5,6])\n",
        "print(\"Sum:\",np.sum(arr))\n",
        "print(\"Mean:\",np.mean(arr))\n",
        "print(\"Standard deviation:\",np.std(arr))\n",
        "print(\"Max:\",np.max(arr))\n",
        "print(\"Min:\",np.min(arr))"
      ],
      "metadata": {
        "colab": {
          "base_uri": "https://localhost:8080/"
        },
        "id": "r2c21qUoawpi",
        "outputId": "abc21808-2b14-42cb-e4f4-797987471e30"
      },
      "execution_count": null,
      "outputs": [
        {
          "output_type": "stream",
          "name": "stdout",
          "text": [
            "Aggregate functions\n",
            "Sum: 21\n",
            "Mean: 3.5\n",
            "Standard deviation: 1.707825127659933\n",
            "Max: 6\n",
            "Min: 1\n"
          ]
        }
      ]
    },
    {
      "cell_type": "code",
      "source": [],
      "metadata": {
        "id": "-Om1oupxckji"
      },
      "execution_count": null,
      "outputs": []
    },
    {
      "cell_type": "code",
      "source": [
        "farmA=np.array([[10,12,11],[9,11,10],[12,13,14],[8,7,9]])\n",
        "farmB=np.array([[20,19,21],[18,20,19],[22,23,21],[17,18,16]])\n",
        "farmC=np.array([[15,16,14],[14,13,15],[16,17,18],[12,11,13]])\n",
        "print(\"FarmA\",farmA)\n",
        "print(\"Farmb\",farmB)\n",
        "print(\"FarmC\",farmC)\n"
      ],
      "metadata": {
        "colab": {
          "base_uri": "https://localhost:8080/"
        },
        "id": "th-gHbYzdExZ",
        "outputId": "c3816551-984f-460c-88ea-5dd16df1cc3b"
      },
      "execution_count": null,
      "outputs": [
        {
          "output_type": "stream",
          "name": "stdout",
          "text": [
            "FarmA [[10 12 11]\n",
            " [ 9 11 10]\n",
            " [12 13 14]\n",
            " [ 8  7  9]]\n",
            "Farmb [[20 19 21]\n",
            " [18 20 19]\n",
            " [22 23 21]\n",
            " [17 18 16]]\n",
            "FarmC [[15 16 14]\n",
            " [14 13 15]\n",
            " [16 17 18]\n",
            " [12 11 13]]\n"
          ]
        }
      ]
    },
    {
      "cell_type": "markdown",
      "source": [],
      "metadata": {
        "id": "_OFUJOzwc_XA"
      }
    },
    {
      "cell_type": "markdown",
      "source": [
        "You are a data engineer at a renewable-energy company that runs 3 solar farms.\n",
        "Each farm has 4 solar panels, and each panel reports hourly energy production (kWh) for 3 hours during a test window.\n",
        "\n",
        "Given data (raw)\n",
        "Create arrays from these values:\n",
        "production — shape (3 farms × 4 panels × 3 hours) represented as a 2D array per farm (you can stack/create as shown in tasks).\n",
        "Farm A panels (rows = panels, cols = hours):\n",
        "\n",
        "\n",
        "Tasks\n",
        "Create arrays\n",
        "Create three 2D NumPy arrays farmA, farmB, farmC (each shape (4,3)).\n",
        "Stack them into a single 3D array production_all of shape (3, 4, 3).\n",
        "Array attributes\n",
        "Print the .shape, .size, .dtype, and .ndim of production_all.\n",
        "Per-farm totals (arithmetic & aggregation)\n",
        "Use aggregation ufuncs to compute the total energy per farm (sum across panels & hours) → total_per_farm (shape (3,)).\n",
        "Compute mean, std, and var per farm.\n",
        "Per-hour matrix multiplication idea (matrix op)\n",
        "For a quick weighted estimate, create a hour_weights row vector of shape (3,) = [0.5, 1.0, 0.75] (weights for hour1, hour2, hour3).\n",
        "Compute weighted_per_panel by performing a dot product between each farm's panel-row and hour_weights to get per-panel weighted energy. (Use np.dot / matrix multiplication appropriately.)\n",
        "Broadcasting adjustments\n",
        "The operator notices a fixed calibration offset of +0.5 kWh for all panels in Farm B. Use broadcasting to add this offset to Farm B data inside production_all (without recreating whole array manually).\n",
        "Element-wise arithmetic (ufuncs: add/sub/mul/div/power/mod)\n",
        "Compute a normalized version where you:\n",
        "subtract the per-farm mean (use broadcasting),\n",
        "divide by the per-farm std (broadcasting) — i.e., z-score normalize each farm's panel-hour readings.\n",
        "Apply many ufuncs (use the ufuncs listed previously)\n",
        "Apply the following element-wise operations (create variables for each) on the normalized data (or a copy) and show the resulting arrays (or summaries — shape/dtype/first row) where appropriate:\n",
        "Exponential family: np.exp, np.expm1, np.log (note: handle non-positive inputs if needed), np.log10, np.log2.\n",
        "Trigonometric: np.sin, np.cos, np.tan, np.arcsin, np.arccos, np.arctan, plus np.degrees, np.radians applied appropriately.\n",
        "Rounding: np.round, np.floor, np.ceil, np.trunc.\n",
        "Comparison & logical ufuncs: create a boolean mask high_output = production_all > 20 and apply np.logical_and, np.logical_or, np.logical_not, np.logical_xor combining masks (e.g., high_output and even_hours_mask). Also use comparison ufuncs like np.greater_equal, np.less.\n",
        "Bitwise ufuncs (on integer arrays): create an integer array alerts = np.array([[1,0,1],[0,0,1],[1,1,0],[0,1,0]]) for each farm (shape match required) — then apply np.bitwise_and, np.bitwise_or, np.invert where sensible.\n",
        "Arithmetic ufuncs again: np.add, np.subtract, np.multiply, np.divide, np.power, np.mod.\n",
        "Aggregations over ufunc outputs: e.g., np.sum(np.exp(...)), np.mean(np.sin(...)).\n",
        "Broadcast-based summary table\n",
        "Use broadcasting to compute a (3,4) array panel_totals_per_farm = total per panel (sum across hours for each panel), and then compute a (3,) boolean needs_maintenance saying True if any panel in that farm has total < 40. Use np.min, np.max, np.any, np.all.\n",
        "Final KPIs (aggregation)\n",
        "Compute:\n",
        "overall_total (sum of all farms),\n",
        "peak_hour value (max across hours) and which farm & panel produced it (use np.argmax with careful unraveling),\n",
        "average_per_panel across all farms."
      ],
      "metadata": {
        "id": "dSFN8tmbc_eB"
      }
    },
    {
      "cell_type": "code",
      "source": [
        "import numpy as np\n",
        "\n",
        "# Panel-hour data from your examples\n",
        "farmA = np.array([\n",
        "    [10, 12, 11],\n",
        "    [9, 11, 10],\n",
        "    [12, 13, 14],\n",
        "    [8, 7, 9]\n",
        "])\n",
        "farmB = np.array([\n",
        "    [20, 19, 21],\n",
        "    [18, 20, 19],\n",
        "    [22, 23, 21],\n",
        "    [17, 18, 16]\n",
        "])\n",
        "farmC = np.array([\n",
        "    [15, 16, 14],\n",
        "    [14, 13, 15],\n",
        "    [16, 17, 18],\n",
        "    [12, 11, 13]\n",
        "])\n",
        "\n",
        "# Stack to shape (3, 4, 3) and force float dtype\n",
        "production_all = np.stack([farmA, farmB, farmC], axis=0).astype(float)\n",
        "\n",
        "# Array attributes\n",
        "print(\"Shape:\", production_all.shape)\n",
        "print(\"Size:\", production_all.size)\n",
        "print(\"Data type:\", production_all.dtype)\n",
        "print(\"Dims:\", production_all.ndim)\n",
        "\n",
        "# Per-farm totals, mean, std, var\n",
        "total_per_farm = production_all.sum(axis=(1, 2))\n",
        "mean_per_farm = production_all.mean(axis=(1, 2))\n",
        "std_per_farm = production_all.std(axis=(1, 2))\n",
        "var_per_farm = production_all.var(axis=(1, 2))\n",
        "\n",
        "print(\"Total per farm:\", total_per_farm)\n",
        "print(\"Mean per farm:\", mean_per_farm)\n",
        "print(\"Std per farm:\", std_per_farm)\n",
        "print(\"Var per farm:\", var_per_farm)\n",
        "\n",
        "# Weighted per-panel via dot\n",
        "hour_weights = np.array([0.5, 1.0, 0.75])\n",
        "weighted_per_panel = np.empty((3, 4))\n",
        "for i in range(3):\n",
        "    weighted_per_panel[i] = np.dot(production_all[i], hour_weights)\n",
        "print(\"Weighted per panel (Farm A, first):\", weighted_per_panel[0])\n",
        "\n",
        "# Add +0.5 kWh offset to Farm B (broadcast, no recreate)\n",
        "production_all_broadcasted = production_all.copy()\n",
        "production_all_broadcasted[1] += 0.5\n",
        "print(\"Sample broadcasted Farm B row:\", production_all_broadcasted[1,0])\n",
        "\n",
        "# Normalization (z-score per farm)\n",
        "mean_bc = mean_per_farm[:, None, None]\n",
        "std_bc = std_per_farm[:, None, None]\n",
        "normalized = (production_all - mean_bc) / std_bc\n",
        "print(\"Sample normalized (Farm A, panel 0):\", normalized[0,0])\n",
        "\n",
        "# Exponential/log family (first row)\n",
        "exp_arr = np.exp(normalized)\n",
        "expm1_arr = np.expm1(normalized)\n",
        "log_arr = np.log(normalized.clip(min=1e-8) + 1)\n",
        "log10_arr = np.log10(normalized.clip(min=1e-8) + 1)\n",
        "log2_arr = np.log2(normalized.clip(min=1e-8) + 1)\n",
        "\n",
        "# Trigonometric and angle conversions\n",
        "sin_arr = np.sin(normalized)\n",
        "cos_arr = np.cos(normalized)\n",
        "tan_arr = np.tan(normalized)\n",
        "arcsin_arr = np.arcsin(np.clip(normalized, -1, 1))\n",
        "arccos_arr = np.arccos(np.clip(normalized, -1, 1))\n",
        "arctan_arr = np.arctan(normalized)\n",
        "degrees_arr = np.degrees(normalized)\n",
        "radians_arr = np.radians(normalized)\n",
        "\n",
        "# Rounding\n",
        "round_arr = np.round(normalized)\n",
        "floor_arr = np.floor(normalized)\n",
        "ceil_arr = np.ceil(normalized)\n",
        "trunc_arr = np.trunc(normalized)\n",
        "\n",
        "# Comparison/logical ufuncs\n",
        "high_output = production_all > 20\n",
        "even_hours_mask = np.zeros_like(production_all, dtype=bool)\n",
        "even_hours_mask[:, :, 0] = True\n",
        "logical_and_arr = np.logical_and(high_output, even_hours_mask)\n",
        "logical_or_arr = np.logical_or(high_output, even_hours_mask)\n",
        "logical_not_arr = np.logical_not(high_output)\n",
        "logical_xor_arr = np.logical_xor(high_output, even_hours_mask)\n",
        "ge_arr = np.greater_equal(production_all, 15)\n",
        "less_arr = np.less(production_all, 10)\n",
        "\n",
        "# Bitwise ufuncs (integer mask)\n",
        "alerts = np.array([\n",
        "    [[1,0,1], [0,0,1], [1,1,0], [0,1,0]],\n",
        "    [[1,0,1], [0,0,1], [1,1,0], [0,1,0]],\n",
        "    [[1,0,1], [0,0,1], [1,1,0], [0,1,0]],\n",
        "])\n",
        "bitwise_and_arr = np.bitwise_and(production_all.astype(int), alerts)\n",
        "bitwise_or_arr = np.bitwise_or(production_all.astype(int), alerts)\n",
        "invert_arr = np.invert(alerts)\n",
        "\n",
        "# Arithmetic ufuncs again\n",
        "add_arr = np.add(production_all, 2)\n",
        "subtract_arr = np.subtract(production_all, 2)\n",
        "multiply_arr = np.multiply(production_all, 2)\n",
        "divide_arr = np.divide(production_all, 2)\n",
        "power_arr = np.power(production_all, 2)\n",
        "mod_arr = np.mod(production_all, 2)\n",
        "\n",
        "# Aggregations over ufunc outputs\n",
        "sum_exp = np.sum(exp_arr)\n",
        "mean_sin = np.mean(sin_arr)\n",
        "print(\"Sum of exp(normalized):\", sum_exp)\n",
        "print(\"Mean of sin(normalized):\", mean_sin)\n",
        "\n",
        "# Broadcast-based summary: per-panel totals & needs_maintenance\n",
        "panel_totals_per_farm = production_all.sum(axis=2)\n",
        "needs_maintenance = np.any(panel_totals_per_farm < 40, axis=1)\n",
        "print(\"Per-panel totals, Farm A:\", panel_totals_per_farm[0])\n",
        "print(\"Needs maintenance (farm):\", needs_maintenance)\n",
        "\n",
        "# Final KPIs\n",
        "overall_total = production_all.sum()\n",
        "peak_val = np.max(production_all)\n",
        "peak_idx = np.unravel_index(np.argmax(production_all), production_all.shape)\n",
        "avg_per_panel = production_all.mean(axis=(0,1))\n",
        "print(\"Overall total:\", overall_total)\n",
        "print(\"Peak value:\", peak_val, \"at\", peak_idx)\n",
        "print(\"Average per reading (all farms):\", avg_per_panel)\n"
      ],
      "metadata": {
        "colab": {
          "base_uri": "https://localhost:8080/"
        },
        "id": "B2kfuDdIhNnJ",
        "outputId": "65eb5bfc-9a6f-4472-933b-41935869f0d0"
      },
      "execution_count": null,
      "outputs": [
        {
          "output_type": "stream",
          "name": "stdout",
          "text": [
            "Shape: (3, 4, 3)\n",
            "Size: 36\n",
            "Data type: float64\n",
            "Dims: 3\n",
            "Total per farm: [126. 234. 174.]\n",
            "Mean per farm: [10.5 19.5 14.5]\n",
            "Std per farm: [1.97905701 1.97905701 1.97905701]\n",
            "Var per farm: [3.91666667 3.91666667 3.91666667]\n",
            "Weighted per panel (Farm A, first): [25.25 23.   29.5  17.75]\n",
            "Sample broadcasted Farm B row: [20.5 19.5 21.5]\n",
            "Sample normalized (Farm A, panel 0): [-0.25264558  0.75793673  0.25264558]\n",
            "Sum of exp(normalized): 57.55695815214101\n",
            "Mean of sin(normalized): 6.1679056923619804e-18\n",
            "Per-panel totals, Farm A: [33. 30. 39. 24.]\n",
            "Needs maintenance (farm): [ True False  True]\n",
            "Overall total: 534.0\n",
            "Peak value: 23.0 at (np.int64(1), np.int64(2), np.int64(1))\n",
            "Average per reading (all farms): [14.41666667 15.         15.08333333]\n"
          ]
        }
      ]
    },
    {
      "cell_type": "code",
      "source": [
        "print(\"Reshaping\")\n",
        "arr=np.array([1,2,3,4,5,6])\n",
        "print(\"Before reshaping\")\n",
        "print(arr)\n",
        "reshaped=arr.reshape(2,3)\n",
        "print(\"After reshaping\")\n",
        "print(reshaped)\n"
      ],
      "metadata": {
        "colab": {
          "base_uri": "https://localhost:8080/"
        },
        "id": "73uvw1Z51rnf",
        "outputId": "964191f0-63ab-4865-edb4-d6900bb4c705"
      },
      "execution_count": null,
      "outputs": [
        {
          "output_type": "stream",
          "name": "stdout",
          "text": [
            "Reshaping\n",
            "Before reshaping\n",
            "[1 2 3 4 5 6]\n",
            "After reshaping\n",
            "[[1 2 3]\n",
            " [4 5 6]]\n"
          ]
        }
      ]
    },
    {
      "cell_type": "code",
      "source": [
        "print(\"Stacking and splitting\")\n",
        "a=np.array([1,2])\n",
        "b=np.array([3,4])\n",
        "\n",
        "print(\"Vertical stack\")\n",
        "print(np.vstack((a,b)))\n",
        "\n",
        "print(\"Horizontal stack\")\n",
        "print(np.hstack((a,b)))\n",
        "\n",
        "\n",
        "print(\"\\n\")\n",
        "print(\"Splitting\")\n",
        "arr=np.array([1,2,3,4,5])\n",
        "\n",
        "print(\"Split into three parts\")\n",
        "print(np.array_split(arr,3))"
      ],
      "metadata": {
        "colab": {
          "base_uri": "https://localhost:8080/"
        },
        "id": "UiOzZlV72mc2",
        "outputId": "46c42fca-c20b-4eff-9a5a-6f992de8d020"
      },
      "execution_count": null,
      "outputs": [
        {
          "output_type": "stream",
          "name": "stdout",
          "text": [
            "Stacking and splitting\n",
            "Vertical stack\n",
            "[[1 2]\n",
            " [3 4]]\n",
            "Horizontal stack\n",
            "[1 2 3 4]\n",
            "\n",
            "\n",
            "Splitting\n",
            "Split into three parts\n",
            "[array([1, 2]), array([3, 4]), array([5])]\n"
          ]
        }
      ]
    },
    {
      "cell_type": "code",
      "source": [
        "print(\"Advanced Indexing\")\n",
        "print(\"Boolean indexing\")\n",
        "arr=np.array([1,2,3,4,5])\n",
        "print(arr[arr>3])\n",
        "\n",
        "print(\"Fancy indexing\")\n",
        "arr=np.array([10,20,30,40])\n",
        "indices=[0,2]\n",
        "print(arr[indices])"
      ],
      "metadata": {
        "colab": {
          "base_uri": "https://localhost:8080/"
        },
        "id": "pAt2vwKu5VMk",
        "outputId": "9c61b53c-114b-41d3-e31a-d64c43478a22"
      },
      "execution_count": null,
      "outputs": [
        {
          "output_type": "stream",
          "name": "stdout",
          "text": [
            "Advanced Indexing\n",
            "Boolean indexing\n",
            "[4 5]\n",
            "Fancy indexing\n",
            "[10 30]\n"
          ]
        }
      ]
    },
    {
      "cell_type": "code",
      "source": [
        "print(\"Copy vs View\")\n",
        "print(\"View share memory\")\n",
        "arr=np.array([1,2,3])\n",
        "veiw=arr.view()\n",
        "veiw[0]=10\n",
        "print(arr)\n",
        "\n",
        "print(\"Copy does not share memory\")\n",
        "copy=arr.copy()\n",
        "copy[0]=10\n",
        "print(arr)"
      ],
      "metadata": {
        "colab": {
          "base_uri": "https://localhost:8080/"
        },
        "id": "bmnj9rZF56Gk",
        "outputId": "d3591864-9fbc-4d8a-f206-5babac4b7a8e"
      },
      "execution_count": null,
      "outputs": [
        {
          "output_type": "stream",
          "name": "stdout",
          "text": [
            "Copy vs View\n",
            "View share memory\n",
            "[10  2  3]\n",
            "Copy does not share memory\n",
            "[10  2  3]\n"
          ]
        }
      ]
    },
    {
      "cell_type": "code",
      "source": [
        "print(\"Saving and loading\")\n",
        "print(\"Save to a file\")\n",
        "arr=np.array([1,2,3])\n",
        "np.save('array.npy',arr)\n",
        "\n",
        "print(\"Load from a file\")\n",
        "loaded_arr=np.load('array.npy')\n",
        "print(loaded_arr)"
      ],
      "metadata": {
        "colab": {
          "base_uri": "https://localhost:8080/"
        },
        "id": "DN_V4qxV7JmX",
        "outputId": "36aaf192-beee-4690-910d-2ff328e27d95"
      },
      "execution_count": null,
      "outputs": [
        {
          "output_type": "stream",
          "name": "stdout",
          "text": [
            "Saving and loading\n",
            "Save to a file\n",
            "Load from a file\n",
            "[1 2 3]\n"
          ]
        }
      ]
    },
    {
      "cell_type": "markdown",
      "source": [
        "TasksArray Creation\n",
        "Create a 1D array of numbers from 10 to 50.\n",
        "Create a 3x3 array of random numbers between 0 and 1.\n",
        "Array Attributes\n",
        "Find the shape, size, and data type of the array you created in the previous task.\n",
        "Basic Operations\n",
        "Add 5 to every element of a 1D array.\n",
        "Multiply two 2D arrays element-wise.\n",
        "Indexing and Slicing\n",
        "Create a 5x5 array of integers from 1 to 25. Extract:\n",
        "The first row.\n",
        "The last column.\n",
        "A subarray of the first three rows and first two columns.\n",
        "Aggregation\n",
        "Create a 10-element array of random integers between 10 and 100. Find:\n",
        "The maximum value.\n",
        "The minimum value.\n",
        "The mean and standard deviation.\n",
        "Reshaping\n",
        "Convert a 1D array of numbers from 1 to 12 into a 3x4 matrix.\n",
        "Broadcasting\n",
        "Create a 3x3 matrix of ones. Add a 1D array [1, 2, 3] to each row.\n",
        "Filtering\n",
        "Create a 1D array of random integers between 1 and 50. Extract all elements that are divisible by 5.\n",
        "Matrix Multiplication\n",
        "Create two 2x2 matrices and perform matrix multiplication.\n",
        "Advanced Indexing\n",
        "Given a 4x4 array, use fancy indexing to extract the diagonal elements."
      ],
      "metadata": {
        "id": "qCh3umd58Bg8"
      }
    },
    {
      "cell_type": "code",
      "source": [
        "arr=np.arange(10,51,1)\n",
        "print(arr)\n",
        "random_arr=np.random.random((3,3))\n",
        "print(random_arr)\n",
        "print(\"Array attributes:\")\n",
        "print(\"Shape:\",arr.shape)\n",
        "print(\"Size:\",arr.size)\n",
        "print(\"Data type:\",arr.dtype)\n",
        "print(\"Adding 5 to every element in arr\")\n",
        "arr=np.add(arr,5)\n",
        "print(arr)\n",
        "arr1=np.array([[1,2,3],[3,4,5]])\n",
        "arr2=np.array([[0,9,8],[7,6,5]])\n",
        "print(\"Multiplying two 2d arrays element-wise\")\n",
        "print(arr1*arr2)\n",
        "print(\"5D array\")\n",
        "arr5D=np.arange(1,26).reshape(5,5)\n",
        "print(arr5D)\n",
        "print(\"The first row:\",arr5D[0])\n",
        "print(\"The last colum:\",arr5D[:,4])\n",
        "print(\"A subarray of the first three rows and first two columns:\",arr5D[:3,:2])\n",
        "print(\"Creating a 10-element array of random integers between 10 and 100\")\n",
        "\n",
        "\n",
        "\n",
        "\n"
      ],
      "metadata": {
        "colab": {
          "base_uri": "https://localhost:8080/"
        },
        "id": "IVYzhc0L8Fpe",
        "outputId": "15124e63-6792-4917-f92b-f8077e842988"
      },
      "execution_count": null,
      "outputs": [
        {
          "output_type": "stream",
          "name": "stdout",
          "text": [
            "[10 11 12 13 14 15 16 17 18 19 20 21 22 23 24 25 26 27 28 29 30 31 32 33\n",
            " 34 35 36 37 38 39 40 41 42 43 44 45 46 47 48 49 50]\n",
            "[[0.40533761 0.24750348 0.22961526]\n",
            " [0.73598107 0.96161319 0.69796327]\n",
            " [0.22921583 0.06293766 0.06885538]]\n",
            "Array attributes:\n",
            "Shape: (41,)\n",
            "Size: 41\n",
            "Data type: int64\n",
            "Adding 5 to every element in arr\n",
            "[15 16 17 18 19 20 21 22 23 24 25 26 27 28 29 30 31 32 33 34 35 36 37 38\n",
            " 39 40 41 42 43 44 45 46 47 48 49 50 51 52 53 54 55]\n",
            "Multiplying two 2d arrays element-wise\n",
            "[[ 0 18 24]\n",
            " [21 24 25]]\n",
            "5D array\n",
            "[[ 1  2  3  4  5]\n",
            " [ 6  7  8  9 10]\n",
            " [11 12 13 14 15]\n",
            " [16 17 18 19 20]\n",
            " [21 22 23 24 25]]\n",
            "The first row: [1 2 3 4 5]\n",
            "The last colum: [ 5 10 15 20 25]\n",
            "A subarray of the first three rows and first two columns: [[ 1  2]\n",
            " [ 6  7]\n",
            " [11 12]]\n"
          ]
        }
      ]
    },
    {
      "cell_type": "code",
      "source": [
        "import random\n",
        "print(\"Creating a 10-element array of random integers between 10 and 100\")\n",
        "ran_arr=[random.randint(10,100) for _ in range(10)]\n",
        "print(ran_arr)\n",
        "print(\"Minimum value:\",np.min(ran_arr))\n",
        "print(\"Maximum value:\",np.max(ran_arr))\n",
        "print(\"Mean:\",np.mean(ran_arr))\n",
        "print(\"Standard deviation:\",np.std(ran_arr))\n",
        "\n",
        "print(\"Reshaping:\")\n",
        "reshape_arr=np.arange(1,13).reshape(3,4)\n",
        "print(reshape_arr)\n",
        "\n",
        "print(\"Broadcasting\")\n",
        "ones=np.ones((3,3))\n",
        "print(ones)\n",
        "print(\"Adding [1,2,3] to each row\")\n",
        "add_ones=np.add(ones,[1,2,3])\n",
        "print(add_ones)\n"
      ],
      "metadata": {
        "colab": {
          "base_uri": "https://localhost:8080/"
        },
        "id": "IoQtj8KzD5lf",
        "outputId": "704379b5-f86f-4aff-abb6-af5036c2f4f5"
      },
      "execution_count": null,
      "outputs": [
        {
          "output_type": "stream",
          "name": "stdout",
          "text": [
            "Creating a 10-element array of random integers between 10 and 100\n",
            "[78, 89, 37, 42, 88, 90, 40, 81, 91, 52]\n",
            "Minimum value: 37\n",
            "Maximum value: 91\n",
            "Mean: 68.8\n",
            "Standard deviation: 21.894291493446413\n",
            "Reshaping:\n",
            "[[ 1  2  3  4]\n",
            " [ 5  6  7  8]\n",
            " [ 9 10 11 12]]\n",
            "Broadcasting\n",
            "[[1. 1. 1.]\n",
            " [1. 1. 1.]\n",
            " [1. 1. 1.]]\n",
            "Adding [1,2,3] to each row\n",
            "[[2. 3. 4.]\n",
            " [2. 3. 4.]\n",
            " [2. 3. 4.]]\n"
          ]
        }
      ]
    }
  ]
}